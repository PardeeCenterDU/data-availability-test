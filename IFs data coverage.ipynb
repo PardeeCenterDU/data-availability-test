{
 "cells": [
  {
   "cell_type": "code",
   "execution_count": 5,
   "metadata": {},
   "outputs": [],
   "source": [
    "import pandas as pd\n",
    "import numpy as np\n",
    "import sqlite3\n",
    "import os"
   ]
  },
  {
   "cell_type": "code",
   "execution_count": 6,
   "metadata": {},
   "outputs": [
    {
     "data": {
      "text/html": [
       "<div>\n",
       "<style scoped>\n",
       "    .dataframe tbody tr th:only-of-type {\n",
       "        vertical-align: middle;\n",
       "    }\n",
       "\n",
       "    .dataframe tbody tr th {\n",
       "        vertical-align: top;\n",
       "    }\n",
       "\n",
       "    .dataframe thead th {\n",
       "        text-align: right;\n",
       "    }\n",
       "</style>\n",
       "<table border=\"1\" class=\"dataframe\">\n",
       "  <thead>\n",
       "    <tr style=\"text-align: right;\">\n",
       "      <th></th>\n",
       "      <th>Table</th>\n",
       "      <th>Group</th>\n",
       "      <th>SubGroup</th>\n",
       "      <th>Definition</th>\n",
       "      <th>Source</th>\n",
       "      <th>Last IFs Update</th>\n",
       "      <th>UsedInPreprocessorFileName</th>\n",
       "    </tr>\n",
       "  </thead>\n",
       "  <tbody>\n",
       "    <tr>\n",
       "      <th>37</th>\n",
       "      <td>SeriesLiteracyAdultTotal%</td>\n",
       "      <td>SociaPolitical, Knowledge, Education</td>\n",
       "      <td>Human Needs</td>\n",
       "      <td>Adult literacy rate is the percentage of peopl...</td>\n",
       "      <td>World Bank</td>\n",
       "      <td>2021/05/18</td>\n",
       "      <td>POPULATION</td>\n",
       "    </tr>\n",
       "    <tr>\n",
       "      <th>63</th>\n",
       "      <td>SeriesMilExpendStock</td>\n",
       "      <td>FBIC</td>\n",
       "      <td>None</td>\n",
       "      <td>Military Expenditures Stock, 10-yr sum, 10%-po...</td>\n",
       "      <td>GIDE</td>\n",
       "      <td>2022/06/10</td>\n",
       "      <td>ECONOMY</td>\n",
       "    </tr>\n",
       "    <tr>\n",
       "      <th>202</th>\n",
       "      <td>SeriesPovLineNationalWB2017</td>\n",
       "      <td>SocioPolitical</td>\n",
       "      <td>Equity</td>\n",
       "      <td>Poverty,  income/consumption threshold per per...</td>\n",
       "      <td>World Bank Working Paper No 7606 (Jolliffe and...</td>\n",
       "      <td>2021/07/21</td>\n",
       "      <td>ECONOMY</td>\n",
       "    </tr>\n",
       "  </tbody>\n",
       "</table>\n",
       "</div>"
      ],
      "text/plain": [
       "                           Table                                 Group  \\\n",
       "37     SeriesLiteracyAdultTotal%  SociaPolitical, Knowledge, Education   \n",
       "63          SeriesMilExpendStock                                  FBIC   \n",
       "202  SeriesPovLineNationalWB2017                        SocioPolitical   \n",
       "\n",
       "        SubGroup                                         Definition  \\\n",
       "37   Human Needs  Adult literacy rate is the percentage of peopl...   \n",
       "63          None  Military Expenditures Stock, 10-yr sum, 10%-po...   \n",
       "202       Equity  Poverty,  income/consumption threshold per per...   \n",
       "\n",
       "                                                Source Last IFs Update  \\\n",
       "37                                          World Bank      2021/05/18   \n",
       "63                                                GIDE      2022/06/10   \n",
       "202  World Bank Working Paper No 7606 (Jolliffe and...      2021/07/21   \n",
       "\n",
       "    UsedInPreprocessorFileName  \n",
       "37                  POPULATION  \n",
       "63                     ECONOMY  \n",
       "202                    ECONOMY  "
      ]
     },
     "execution_count": 6,
     "metadata": {},
     "output_type": "execute_result"
    }
   ],
   "source": [
    "# Connect to DataDict\n",
    "conn_dd = sqlite3.connect('C:/Users/yutang.xiong/Desktop/IFsHistSeries 8.38 20250207/DataDict.db')\n",
    "cursor_dd = conn_dd.cursor()\n",
    "query=\"SELECT * FROM [DataDict]\"\n",
    "dt_dict=pd.io.sql.read_sql(query,conn_dd)\n",
    "# close connection to DataDict\n",
    "conn_dd.close()\n",
    "dt_dict_core = dt_dict[dt_dict[\"UsedInPreprocessor\"]==True][[\"Table\", \"Group\", \"SubGroup\",\"Definition\",'Source', 'Last IFs Update', 'UsedInPreprocessorFileName']].copy()\n",
    "dt_dict_core.head(3)"
   ]
  },
  {
   "cell_type": "code",
   "execution_count": 26,
   "metadata": {},
   "outputs": [
    {
     "name": "stderr",
     "output_type": "stream",
     "text": [
      "C:\\Users\\yutang.xiong\\AppData\\Local\\Temp\\ipykernel_17796\\1560455910.py:28: FutureWarning: The behavior of DataFrame concatenation with empty or all-NA entries is deprecated. In a future version, this will no longer exclude empty or all-NA columns when determining the result dtypes. To retain the old behavior, exclude the relevant entries before the concat operation.\n",
      "  dt_ifs_core = pd.concat(ifshist_list)\n"
     ]
    }
   ],
   "source": [
    "y_start = 2017\n",
    "y_end = 2023\n",
    "# Connect to IFsHistSeries\n",
    "conn_ifs = sqlite3.connect('C:/Users/yutang.xiong/Desktop/IFsHistSeries 8.38 20250207/IFsHistSeries.db')\n",
    "cursor_ifs = conn_ifs.cursor()\n",
    "# get all table names\n",
    "cursor_ifs.execute(\"SELECT name FROM sqlite_master WHERE type='table';\")\n",
    "tables = cursor_ifs.fetchall()\n",
    "tables_IFs = [table[0] for table in tables]\n",
    "#\n",
    "ifshist_list = []\n",
    "tb_error = []\n",
    "for tb in dt_dict_core.Table:\n",
    "    query=f\"SELECT * FROM [{tb}]\"  # Or query=\"SELECT * FROM [\"+ table_name +\"]\"\n",
    "    dt_ifshist=pd.io.sql.read_sql(query,conn_ifs)\n",
    "    try:\n",
    "        columns_y =  [y for y in dt_ifshist.columns[2:-2] if int(y)>=y_start and int(y)<=y_end]  \n",
    "    except:\n",
    "        tb_error.append(tb)\n",
    "        continue\n",
    "    dt_ifshist = dt_ifshist[[*[\"Country\"],* columns_y]]\n",
    "    for y in [str(y) for y in range(y_start,y_end+1)]:\n",
    "        if y not in dt_ifshist.columns:\n",
    "            dt_ifshist[y] = np.nan\n",
    "    dt_ifshist.insert(0, \"Table\", tb)\n",
    "    ifshist_list.append(dt_ifshist)\n",
    "#\n",
    "dt_ifs_core = pd.concat(ifshist_list)\n",
    "# close connection to IFsHistSeries \n",
    "conn_ifs.close()"
   ]
  },
  {
   "cell_type": "code",
   "execution_count": 27,
   "metadata": {},
   "outputs": [
    {
     "name": "stdout",
     "output_type": "stream",
     "text": [
      "2017 73234\n",
      "2018 70302\n",
      "2019 67050\n",
      "2020 64389\n",
      "2021 57987\n",
      "2022 27966\n",
      "2023 13924\n"
     ]
    }
   ],
   "source": [
    "dt_cover = pd.merge(left = dt_dict_core, right = dt_ifs_core, on = [\"Table\"], how=\"right\")\n",
    "for y in dt_ifs_core.columns[2:]:\n",
    "    print(y, dt_cover[y].notna().sum())"
   ]
  },
  {
   "cell_type": "code",
   "execution_count": 21,
   "metadata": {},
   "outputs": [
    {
     "data": {
      "text/plain": [
       "Source\n",
       "FAO BATCH PULL                                                                                                                                                                                                  160\n",
       "World Development Indicators (WDI), World Bank                                                                                                                                                                   62\n",
       "UNESCO Institute for Statistics (UIS)                                                                                                                                                                            39\n",
       "BGR; \"Reserves, Resources and Availability of Energy Resources\"Bundesanstalt für Geowissenschaften und Rohstoffe (BGR) in Hannover; Annual Report. Reserves, Resources and Availability of Energy Resources\"     11\n",
       "FAO FishstatJ software, Global  Aquaculture Production Quantity data                                                                                                                                              9\n",
       "JMP WHO/UNICEF                                                                                                                                                                                                    8\n",
       "United Nations Office of Drug and Crime (UNODC)                                                                                                                                                                   8\n",
       "FAO FishstatJ software, Global  Catch Production Quantity data                                                                                                                                                    8\n",
       "United Nations Program on HIV/AIDS (UNAIDS)                                                                                                                                                                       6\n",
       "FAOSTAT, Trade Domain                                                                                                                                                                                             5\n",
       "FAO, FishstatJ                                                                                                                                                                                                    4\n",
       "UIS                                                                                                                                                                                                               3\n",
       "World Health Organization (WHO)                                                                                                                                                                                   2\n",
       "World Road Statistics, International Road Federation                                                                                                                                                              2\n",
       "UNPD World Population Prospects                                                                                                                                                                                   2\n",
       "FAOSTAT                                                                                                                                                                                                           2\n",
       "Diplometrics                                                                                                                                                                                                      2\n",
       "IMF Balance of Payments and International Investment Position Statistics                                                                                                                                          2\n",
       "FAO Food Security and Nutrition                                                                                                                                                                                   1\n",
       "WDI BATCH Update 2020                                                                                                                                                                                             1\n",
       "IMF Global Debt Database                                                                                                                                                                                          1\n",
       "International Diabetes Federation's Diabetes Atlas                                                                                                                                                                1\n",
       "Stockholm International Peace Research Institute (SIPRI)                                                                                                                                                          1\n",
       "ASPIRE Database, World Bank                                                                                                                                                                                       1\n",
       "Fraser Institute                                                                                                                                                                                                  1\n",
       "CIA World Factbook; holes filled (for 2007 column) by Jonathan Moyer various sources                                                                                                                              1\n",
       "CIA World Factbook; holes filled by Jonathan Moyer various sources                                                                                                                                                1\n",
       "OECDStat and World Bank GDP estimates (current LCU)                                                                                                                                                               1\n",
       "FAO FishstatJ software, Global Catch Production Quantity Data                                                                                                                                                     1\n",
       "Rural Access Index, World Bank                                                                                                                                                                                    1\n",
       "OECDStat and World Bank GNI estimates (current US)                                                                                                                                                                1\n",
       "World Bank                                                                                                                                                                                                        1\n",
       "Name: count, dtype: int64"
      ]
     },
     "execution_count": 21,
     "metadata": {},
     "output_type": "execute_result"
    }
   ],
   "source": [
    "# sum = 356     356 - 154 - 51 - 50 - 8 = 93\n",
    "dt_cover[(dt_cover[\"2021\"].notna())&(dt_cover[\"2022\"].isna())].drop_duplicates(subset=[\"Table\"]).Source.value_counts()"
   ]
  },
  {
   "cell_type": "code",
   "execution_count": 10,
   "metadata": {},
   "outputs": [],
   "source": [
    "# dt_cover[(dt_cover[\"2017\"].notna())&(dt_cover[\"2018\"].isna()) & (dt_cover.Source.str.contains(\"FAO\"))].drop_duplicates(subset=[\"Table\"])[\"Last IFs Update\"].unique()\n",
    "# dt_cover[(dt_cover[\"2017\"].notna())&(dt_cover[\"2018\"].isna()) & (dt_cover.Source.str.contains(\"WDI\"))].drop_duplicates(subset=[\"Table\"])[\"Last IFs Update\"].unique()\n",
    "# dt_cover[(dt_cover[\"2017\"].notna())&(dt_cover[\"2018\"].isna()) & (dt_cover.Source.str.contains(\"UIS\"))].drop_duplicates(subset=[\"Table\"])[\"Last IFs Update\"].unique()"
   ]
  },
  {
   "cell_type": "code",
   "execution_count": 14,
   "metadata": {},
   "outputs": [],
   "source": [
    "# #dt_cover[(dt_cover[\"2017\"].notna())&(dt_cover[\"2018\"].isna()) & (dt_cover.Source.str.contains(\"WDI\"))].drop_duplicates(subset=[\"Table\"])\n",
    "# dt_uis = dt_cover[(dt_cover[\"2017\"].notna())&(dt_cover[\"2018\"].isna()) & (dt_cover.Source.str.contains(\"UIS\"))].drop_duplicates(subset=[\"Table\"])\n",
    "# dt_uis = dt_uis[[\"Table\", \"Group\", \"SubGroup\", \"Definition\", \"Source\", \"Last IFs Update\"]]\n",
    "# dt_dict[dt_dict.Table.isin(dt_uis.Table.unique())].to_excel(\"UIS Preprocessors search 20220223.xlsx\", index=False)"
   ]
  }
 ],
 "metadata": {
  "kernelspec": {
   "display_name": "Python 3",
   "language": "python",
   "name": "python3"
  },
  "language_info": {
   "codemirror_mode": {
    "name": "ipython",
    "version": 3
   },
   "file_extension": ".py",
   "mimetype": "text/x-python",
   "name": "python",
   "nbconvert_exporter": "python",
   "pygments_lexer": "ipython3",
   "version": "3.11.5"
  }
 },
 "nbformat": 4,
 "nbformat_minor": 4
}
